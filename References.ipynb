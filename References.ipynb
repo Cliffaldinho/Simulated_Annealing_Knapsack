{
 "cells": [
  {
   "cell_type": "code",
   "execution_count": null,
   "metadata": {
    "collapsed": true
   },
   "outputs": [],
   "source": [
    "\n",
    "import numpy as np\n",
    "import matplotlib.pyplot as plt\n",
    "import random\n",
    "# create plot of e^(-x)sin(4x) and e^(-x)cos(4x) from 0 to 5\n",
    "x = np.linspace(0,5,100) # 100 points between 0 and 5, equally spaced\n",
    "#print(x)\n",
    "#help(np.linspace) prints help\n",
    "y = np.sin(4*x)*np.exp(-x)\n",
    "#print(y)\n",
    "z = np.cos(4*x)*np.exp(-x)\n",
    "#print(z)\n",
    "plt.figure() # top level container for all elements\n",
    "plt.plot(x,y, label = \"e^(-x)*sin(4x)\")\n",
    "plt.plot(x,z,\"r--\", label=\"$e^(-x)*cos(4x)$\") # r-- makes a red dash line\n",
    "#$ makes it into latex form\"\n",
    "plt.legend() #label and legend gives it the label\n",
    "#linewidth adjusts width of line of plt\n",
    "#savefig saves figure of plt\n",
    "plt.title(\"Sin Cos Plot\") #writes title\n",
    "print(\"test\")\n",
    "\n",
    "\n"
   ]
  },
  {
   "cell_type": "code",
   "execution_count": null,
   "outputs": [],
   "source": [
    "#pass by object reference\n",
    "def append_one(li):\n",
    "    li.append(1)\n",
    "x = [0]\n",
    "append_one(x)\n",
    "print(x)\n",
    "\n",
    "def append_array(current_list,new_element):\n",
    "    current_list.append(new_element)\n",
    "a = []\n",
    "append_array(a,[1,0,1,0])\n",
    "print(a)\n",
    "append_array(a,[1,1,0,0])\n",
    "print(a)\n",
    "\n",
    "listA = [0]\n",
    "listB = listA\n",
    "listB.append(1)\n",
    "print(listA)\n"
   ],
   "metadata": {
    "collapsed": false,
    "pycharm": {
     "name": "#%%\n"
    }
   }
  },
  {
   "cell_type": "code",
   "execution_count": null,
   "outputs": [],
   "source": [
    "\n",
    "#Alt Shift A insert new cell Above\n",
    "#Alt Shift B insert new cell Below\n",
    "#imports numpy (math functions)\n",
    "import numpy as np\n",
    "\n",
    "#imports matplotlib (plotting library)\n",
    "import matplotlib.pyplot as plt\n",
    "\n",
    "#define function\n",
    "def h(x):\n",
    "    if x < -1 or x > 1:\n",
    "        y = 0\n",
    "    else:\n",
    "        y = (np.cos(50*x) + np.sin(10*x))\n",
    "    return y\n",
    "\n",
    "#takes sequence of objects and puts them into an array\n",
    "hv = np.vectorize(h)\n",
    "\n",
    "\n",
    "#creates evenly spaced intervals (first number, last number, amount of numbers)\n",
    "X = np.linspace(-1,2,num=1000)\n",
    "\n",
    "\n",
    "plt.plot(X,hv(X))\n",
    "\n"
   ],
   "metadata": {
    "collapsed": false,
    "pycharm": {
     "name": "#%%\n"
    }
   }
  },
  {
   "cell_type": "code",
   "execution_count": null,
   "outputs": [],
   "source": [
    "def simple_greedy_search(func, start, n):\n",
    "    x = start   # start out with some random starting value\n",
    "    history = []\n",
    "    for i in range (n):\n",
    "        history.append(x)   #keep track of steps\n",
    "        u = 0.001  #np.random.rand()  , size of step\n",
    "        xleft, xright = x-u, x+u    #look around neighbourhood\n",
    "        yleft, yright = func(xleft), func(xright)\n",
    "        if yleft > yright:  #if moving to left is greater\n",
    "            x=xleft #accept left candidate\n",
    "        elif yleft > yright:   #else\n",
    "            x=xright    #accept right candidate\n",
    "    return x,history\n",
    "        \n",
    "\n",
    "x0,history = simple_greedy_search(hv,start=-0.1,n=100)\n",
    "#do this number of times until reach maxima/minima\n",
    "\n",
    "plt.plot (X,hv(X))\n",
    "\n",
    "#x, y are data positions, s is marker size, marker is instance of class or text shorthand\n",
    "plt.scatter(x0,h(x0),marker='x',s=100)\n",
    "plt.plot(history,hv(history))\n",
    "print (x0)\n"
   ],
   "metadata": {
    "collapsed": false,
    "pycharm": {
     "name": "#%%\n"
    }
   }
  },
  {
   "cell_type": "code",
   "execution_count": null,
   "outputs": [],
   "source": [
    "def SA(search_space,func,T):\n",
    "    scale = np.sqrt(T)\n",
    "    #start=-0.23\n",
    "    start = np.random.choice(search_space)  #get random starting value\n",
    "    x = start*1\n",
    "    cur = func(x)\n",
    "    history = [x]\n",
    "    for i in range (1000):  #for a set of iterations\n",
    "        prop = x + np.random.normal()*scale #get a proposal\n",
    "        #calculate probability of accepting that proposal\n",
    "        if np.log(np.random.rand())*T>(func(prop)-cur) or prop>1 or prop<0:\n",
    "            prop=x\n",
    "        x=prop\n",
    "        cur=func(x) #either accept or reject it based on the probability\n",
    "        T=0.9*T #reduce temperature by 10% each iteration\n",
    "        history.append(x)\n",
    "    return x,history\n",
    "\n",
    "X = np.linspace(-1,1,num=1000)\n",
    "x1,history = SA(X,h,T=4)\n",
    "\n",
    "#print(x1.__sizeof__())\n",
    "#print(history.__sizeof__())\n",
    "\n",
    "plt.plot(X,hv(X))\n",
    "plt.scatter(x1,hv(x1),marker='x')\n",
    "plt.plot(history,hv(history))\n",
    "\n",
    "        \n",
    "        "
   ],
   "metadata": {
    "collapsed": false,
    "pycharm": {
     "name": "#%%\n"
    }
   }
  },
  {
   "cell_type": "code",
   "execution_count": null,
   "outputs": [],
   "source": [
    "\n",
    "import numpy as np\n",
    "def knapsack_dynamic_programming(total_weight, weight_array, value_array, amount_of_objects):\n",
    "    \n",
    "    table = np.empty(shape=(amount_of_objects+1,total_weight+1),dtype=int)\n",
    "    print(\"Flag: Table is\")\n",
    "    print(table)      \n",
    "    \n",
    "    print(\"Flag: Total weight is \")\n",
    "    print (total_weight)\n",
    "    print(\"Flag: Weight array is \")\n",
    "    print(weight_array)\n",
    "    print(\"Flag: Value array is \")\n",
    "    print(value_array)\n",
    "    print(\"Flag: Amount of Objects is \")\n",
    "    print(amount_of_objects)\n",
    "    \n",
    "    weight_array.insert(0,0)\n",
    "    print(\"Flag: New weight array is \")\n",
    "    print(weight_array)\n",
    "\n",
    "    value_array.insert(0,0)\n",
    "    print(\"Flag: New value array is\")\n",
    "    print(value_array)\n",
    "\n",
    "    for i in range(amount_of_objects+1):\n",
    "        for w in range(total_weight+1):\n",
    "            if i == 0 or w == 0:\n",
    "                table[i][w] = 0\n",
    "            elif weight_array[i] <= w:\n",
    "                table[i][w] = max(table[i-1][w],\n",
    "                    table[i-1][w-weight_array[i]]+value_array[i])\n",
    "            else:\n",
    "                table[i][w] = table[i-1][w]\n",
    "    \n",
    "    print(\"Flag: Tabular form from dynamic programming is\")\n",
    "    print(table)\n",
    "    \n",
    "    a = amount_of_objects\n",
    "    b = total_weight\n",
    "    objects_chosen_array = np.empty(shape=amount_of_objects,dtype=int)\n",
    "    print(objects_chosen_array)\n",
    "  \n",
    "    while a>0:\n",
    "        if table[a][b] == table[a-1][b]:    \n",
    "            #object not included\n",
    "            objects_chosen_array[a-1] = 0\n",
    "            print(\"Flag:\",a,\" is 0\")\n",
    "            #print(a)\n",
    "            #print(\" is 0\")\n",
    "            a-=1\n",
    "        else:\n",
    "            #object included\n",
    "            objects_chosen_array[a-1] = 1\n",
    "            print(\"Flag:\",a,\" is 1\")\n",
    "            b-=weight_array[a]\n",
    "            a-=1\n",
    "    print(\"Flag: Objects chosen array is\")\n",
    "    print(objects_chosen_array)\n",
    "    \n",
    "    resultant_total_value = 0\n",
    "    resultant_total_weight = 0\n",
    "    for i in objects_chosen_array:\n",
    "        add_weight = objects_chosen_array[i]*weight_array[i]\n",
    "        resultant_total_weight += add_weight\n",
    "        add_value = objects_chosen_array[i]*weight_array[i]\n",
    "        resultant_total_value += add_value\n",
    "    \n",
    "    return objects_chosen_array,resultant_total_value,resultant_total_weight\n",
    "\n",
    "knapsack_dynamic_programming(8,[2,3,4,5],[1,2,5,6],4)\n",
    "\n"
   ],
   "metadata": {
    "collapsed": false,
    "pycharm": {
     "name": "#%%\n"
    }
   }
  }
 ],
 "metadata": {
  "kernelspec": {
   "display_name": "Python 3",
   "language": "python",
   "name": "python3"
  },
  "language_info": {
   "codemirror_mode": {
    "name": "ipython",
    "version": 2
   },
   "file_extension": ".py",
   "mimetype": "text/x-python",
   "name": "python",
   "nbconvert_exporter": "python",
   "pygments_lexer": "ipython2",
   "version": "2.7.6"
  },
  "pycharm": {
   "stem_cell": {
    "cell_type": "raw",
    "source": [],
    "metadata": {
     "collapsed": false
    }
   }
  }
 },
 "nbformat": 4,
 "nbformat_minor": 0
}